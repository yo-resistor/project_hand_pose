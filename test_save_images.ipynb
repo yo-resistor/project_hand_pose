{
 "cells": [
  {
   "cell_type": "markdown",
   "metadata": {},
   "source": [
    "# Save Images using Depth Camera\n",
    "This script shows how to capture and save images using a depth camera made by Intel."
   ]
  },
  {
   "cell_type": "code",
   "execution_count": 13,
   "metadata": {},
   "outputs": [],
   "source": [
    "# import necessary libraries\n",
    "import pyrealsense2 as rs\n",
    "import numpy as np\n",
    "import cv2\n",
    "import os\n",
    "# details of pyrealsens2 library:\n",
    "# https://intelrealsense.github.io/librealsense/python_docs/_generated/pyrealsense2.html\n",
    "# detiail of opencv-python library\n",
    "# https://docs.opencv.org/4.x/"
   ]
  },
  {
   "cell_type": "code",
   "execution_count": 14,
   "metadata": {},
   "outputs": [],
   "source": [
    "# configure depth and color streams\n",
    "pipeline = rs.pipeline()\n",
    "config = rs.config()"
   ]
  },
  {
   "cell_type": "code",
   "execution_count": 15,
   "metadata": {},
   "outputs": [],
   "source": [
    "# get camera details\n",
    "pipeline_wrapper = rs.pipeline_wrapper(pipeline)\n",
    "pipeline_profile = config.resolve(pipeline_wrapper)\n",
    "device = pipeline_profile.get_device()\n",
    "device_product_line = str(device.get_info(rs.camera_info.product_line))"
   ]
  },
  {
   "cell_type": "code",
   "execution_count": 16,
   "metadata": {},
   "outputs": [
    {
     "name": "stdout",
     "output_type": "stream",
     "text": [
      "Color sensor exists.\n"
     ]
    }
   ],
   "source": [
    "# check whether camera is rgb\n",
    "found_rgb = False\n",
    "for sensor in device.sensors:\n",
    "    if sensor.get_info(rs.camera_info.name) == 'RGB Camera':\n",
    "        found_rgb = True\n",
    "        break\n",
    "if found_rgb:\n",
    "    print(\"Color sensor exists.\")\n",
    "else:\n",
    "    print(\"Color sensor DOES NOT exist.\")"
   ]
  },
  {
   "cell_type": "code",
   "execution_count": 17,
   "metadata": {},
   "outputs": [],
   "source": [
    "# configure resolutions\n",
    "# maximum resolution for D435 is 1280X720\n",
    "width = 640\n",
    "height = 360\n",
    "config.enable_stream(stream_type=rs.stream.depth, \n",
    "                     width=width, height=height, \n",
    "                     format=rs.format.z16, framerate=30)\n",
    "# color images\n",
    "config.enable_stream(stream_type=rs.stream.color, \n",
    "                     width=width, height=height, \n",
    "                     format=rs.format.bgr8, framerate=30)"
   ]
  },
  {
   "cell_type": "code",
   "execution_count": 18,
   "metadata": {},
   "outputs": [
    {
     "name": "stderr",
     "output_type": "stream",
     "text": [
      "<>:62: SyntaxWarning: \"is not\" with a literal. Did you mean \"!=\"?\n",
      "<>:62: SyntaxWarning: \"is not\" with a literal. Did you mean \"!=\"?\n",
      "/tmp/ipykernel_78526/3376649854.py:62: SyntaxWarning: \"is not\" with a literal. Did you mean \"!=\"?\n",
      "  if color_image[0, 0].dtype is not 'uint8':\n"
     ]
    },
    {
     "name": "stdout",
     "output_type": "stream",
     "text": [
      "Press \"q\" or \"esc\" to stop streaming.\n",
      "Press \"s\" to save the image frame.\n",
      "Image saved as: saved_images/0_00000003.png.png\n"
     ]
    }
   ],
   "source": [
    "# create a directory to store image if doesn't exist\n",
    "output_dir = \"saved_images\"\n",
    "os.makedirs(name=output_dir, exist_ok=True)\n",
    "image_counter = len(os.listdir(output_dir)) + 1     # image counter for file name\n",
    "\n",
    "# start streaming\n",
    "pipeline.start(config=config)\n",
    "instruction = False     # control variable for keyboard input message\n",
    "\n",
    "try:\n",
    "    # infinite loop for streaming\n",
    "    while True:\n",
    "        # Wait for a set of frames for depth and color images\n",
    "        frames = pipeline.wait_for_frames()\n",
    "        depth_frame = frames.get_depth_frame()\n",
    "        color_frame = frames.get_color_frame()\n",
    "        if not depth_frame or not color_frame:\n",
    "            continue\n",
    "        \n",
    "        # convert images to numpy arrays\n",
    "        depth_image = np.asanyarray(depth_frame.get_data())\n",
    "        color_image = np.asanyarray(color_frame.get_data())\n",
    "        \n",
    "        # apply colormap on depth images\n",
    "        # images must be converted to 8-bit per pixel\n",
    "        # https://shimat.github.io/opencvsharp_docs/html/7633dbe6-e0b8-23bf-6966-dc9b4720e3d1.htm\n",
    "        # alpha here is a scaling factor applied to the input image\n",
    "        # any color maps can be used: https://docs.opencv.org/3.4/d3/d50/group__imgproc__colormap.html#gga9a805d8262bcbe273f16be9ea2055a65ab3f207661ddf74511b002b1acda5ec09\n",
    "        depth_colormap = cv2.applyColorMap(cv2.convertScaleAbs(depth_image, alpha=0.5), cv2.COLORMAP_JET)\n",
    "        \n",
    "        # set color map dimensions\n",
    "        depth_colormap_dim = depth_colormap.shape\n",
    "        color_colormap_dim = color_image.shape\n",
    "        \n",
    "        # if color image and depth image do not have same dimensions,\n",
    "        # resize color image to match depth image's dimension\n",
    "        if depth_colormap_dim != color_colormap_dim:\n",
    "            print(\"Depth and color images have different dimensions.\")\n",
    "            resized_color_image = cv2.resize(color_image, dsize=(depth_colormap_dim[1], depth_colormap_dim[0]), interpolation=cv2.INTER_AREA)\n",
    "            images = np.hstack((resized_color_image, depth_colormap))\n",
    "        else:\n",
    "            images = np.hstack((color_image, depth_colormap))\n",
    "            \n",
    "        # show images\n",
    "        cv2.namedWindow('RealSense', cv2.WINDOW_AUTOSIZE)\n",
    "        cv2.imshow('RealSense', images)\n",
    "        # show details about keyboard inputs for user interface\n",
    "        if not instruction:\n",
    "            print('Press \"q\" or \"esc\" to stop streaming.')\n",
    "            print('Press \"s\" to save the image frame.')\n",
    "            instruction = True\n",
    "            \n",
    "        # wait for a key press (1 ms delay)\n",
    "        # ref: https://www.asciitable.com/\n",
    "        key = cv2.waitKey(1)\n",
    "        # check keyboard input    \n",
    "        if key == ord('q') or key == 27:\n",
    "            break\n",
    "        elif key == ord('s'):\n",
    "            # save image frame\n",
    "            # check whether the image is in correct format\n",
    "            if color_image[0, 0].dtype is not 'uint8':\n",
    "                color_image = color_image.astype(np.uint8)\n",
    "            \n",
    "            # reshape the image from (height, width, color) to (width, height, color)\n",
    "            color_image_reshaped = color_image.transpose(1, 0, 2)\n",
    "            \n",
    "            # save the image in png format\n",
    "            file_label = int(input(\"Enter the image label [0-9]: \"))\n",
    "            os.makedirs(name=output_dir, exist_ok=True)\n",
    "            file_name = os.path.join(output_dir, f\"{file_label}_{image_counter:08d}.png\")\n",
    "            cv2.imwrite(file_name, color_image)\n",
    "            image_counter += 1\n",
    "            print(f\"Image saved as: {file_name}.png\")\n",
    "                    \n",
    "except:\n",
    "    print(\"The streaming is not available.\")\n",
    "    \n",
    "finally:\n",
    "    # close all windows\n",
    "    cv2.destroyAllWindows()\n",
    "    \n",
    "    # stop streaming\n",
    "    pipeline.stop()"
   ]
  }
 ],
 "metadata": {
  "kernelspec": {
   "display_name": "hand_pose",
   "language": "python",
   "name": "python3"
  },
  "language_info": {
   "codemirror_mode": {
    "name": "ipython",
    "version": 3
   },
   "file_extension": ".py",
   "mimetype": "text/x-python",
   "name": "python",
   "nbconvert_exporter": "python",
   "pygments_lexer": "ipython3",
   "version": "3.10.15"
  }
 },
 "nbformat": 4,
 "nbformat_minor": 2
}
