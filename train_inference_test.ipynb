{
 "cells": [
  {
   "cell_type": "code",
   "execution_count": 1,
   "metadata": {},
   "outputs": [
    {
     "name": "stdout",
     "output_type": "stream",
     "text": [
      "No need to move files: There are enough data.\n",
      "No need to move files: There are enough data.\n",
      "No need to move files: There are enough data.\n",
      "No need to move files: There are enough data.\n",
      "No need to move files: There are enough data.\n"
     ]
    }
   ],
   "source": [
    "import argparse\n",
    "import os\n",
    "import torch\n",
    "import torch.nn as nn\n",
    "import torch.optim as optim\n",
    "from tqdm import tqdm\n",
    "\n",
    "import cv2\n",
    "import numpy as np\n",
    "\n",
    "from model import CNN\n",
    "from datasets_inference import train_loader, valid_loader, test_loader\n",
    "from utils import save_model, save_plot"
   ]
  },
  {
   "cell_type": "code",
   "execution_count": null,
   "metadata": {},
   "outputs": [],
   "source": [
    "# construct the argument parser from command line inputs\n",
    "parser = argparse.ArgumentParser()\n",
    "parser.add_argument('-e', '--epochs', type=int, default=10,\n",
    "                    help=\"the number of epochs to train the model for\")\n",
    "args = vars(parser.parse_args())\n",
    "\n",
    "# define learning parameters\n",
    "lr = 1e-3\n",
    "epochs = args['epochs']\n",
    "\n",
    "# find the number of classes\n",
    "num_classes = len(os.listdir('data/train'))\n",
    "\n",
    "# activate gpu if possible, otherwise cpu\n",
    "device = torch.device('cuda:0' if torch.cuda.is_available() else 'cpu')\n",
    "print(f\"\\nDevice: {device}\\n\")\n",
    "\n",
    "# instantiate and send the model to the device\n",
    "model = CNN(num_classes).to(device)\n",
    "print(model)\n",
    "\n",
    "# model's details: total parameters and trainable parameters\n",
    "total_params = sum(p.numel() for p in model.parameters())\n",
    "total_train_params = sum(p.numel() for p in model.parameters() if p.requires_grad)\n",
    "print(f\"\\nTotal parameters: {total_params}\")\n",
    "print(f\"Total trainable parameters: {total_train_params}\\n\")\n",
    "\n",
    "# define optimizer\n",
    "optimizer = optim.Adam(model.parameters(), lr=lr)\n",
    "\n",
    "# define loss function\n",
    "criterion = nn.CrossEntropyLoss()"
   ]
  }
 ],
 "metadata": {
  "kernelspec": {
   "display_name": "hand_pose",
   "language": "python",
   "name": "python3"
  },
  "language_info": {
   "codemirror_mode": {
    "name": "ipython",
    "version": 3
   },
   "file_extension": ".py",
   "mimetype": "text/x-python",
   "name": "python",
   "nbconvert_exporter": "python",
   "pygments_lexer": "ipython3",
   "version": "3.10.15"
  }
 },
 "nbformat": 4,
 "nbformat_minor": 2
}
