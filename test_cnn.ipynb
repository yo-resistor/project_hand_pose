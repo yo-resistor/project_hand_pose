{
 "cells": [
  {
   "cell_type": "markdown",
   "metadata": {},
   "source": [
    "# Convolutional Neural Network Classification For Hand Poses\n",
    "This script shows how to build a convolutional neural network to classify different hand poses."
   ]
  },
  {
   "cell_type": "markdown",
   "metadata": {},
   "source": [
    "## Import Libraries"
   ]
  },
  {
   "cell_type": "code",
   "execution_count": 14,
   "metadata": {},
   "outputs": [],
   "source": [
    "# import necessary libraries\n",
    "import torch\n",
    "import torch.nn as nn\n",
    "import torch.nn.functional as F\n",
    "from torchvision import datasets, transforms\n",
    "import numpy as np\n",
    "import matplotlib.pyplot as plt\n",
    "import os\n",
    "import random, shutil\n",
    "import imageio.v3 as imageio\n",
    "from datetime import datetime"
   ]
  },
  {
   "cell_type": "code",
   "execution_count": 13,
   "metadata": {},
   "outputs": [
    {
     "name": "stdout",
     "output_type": "stream",
     "text": [
      "down  fist  left  right  up\n",
      "The number of classes: 5\n"
     ]
    }
   ],
   "source": [
    "!ls data/train\n",
    "\n",
    "# define the number of output K\n",
    "num_classes = len(os.listdir('data/train'))\n",
    "print(f\"The number of classes: {num_classes}\")"
   ]
  },
  {
   "cell_type": "markdown",
   "metadata": {},
   "source": [
    "## Organize Data"
   ]
  },
  {
   "cell_type": "code",
   "execution_count": 3,
   "metadata": {},
   "outputs": [],
   "source": [
    "# create folder environments for training and testing\n",
    "os.makedirs(name=\"data\", exist_ok=True)\n",
    "\n",
    "os.makedirs(name=\"data/train\", exist_ok=True)\n",
    "os.makedirs(name=\"data/test\", exist_ok=True)\n",
    "\n",
    "os.makedirs(name=\"data/train/fist\", exist_ok=True)      # label 0 for training\n",
    "os.makedirs(name=\"data/train/up\", exist_ok=True)        # label 1 for training\n",
    "os.makedirs(name=\"data/train/left\", exist_ok=True)      # label 2 for training\n",
    "os.makedirs(name=\"data/train/down\", exist_ok=True)      # label 3 for training\n",
    "os.makedirs(name=\"data/train/right\", exist_ok=True)     # label 4 for training\n",
    "\n",
    "os.makedirs(name=\"data/test/fist\", exist_ok=True)       # label 0 for testing\n",
    "os.makedirs(name=\"data/test/up\", exist_ok=True)         # label 1 for testing\n",
    "os.makedirs(name=\"data/test/left\", exist_ok=True)       # label 2 for testing\n",
    "os.makedirs(name=\"data/test/down\", exist_ok=True)       # label 3 for testing\n",
    "os.makedirs(name=\"data/test/right\", exist_ok=True)      # label 4 for testing"
   ]
  },
  {
   "cell_type": "code",
   "execution_count": 4,
   "metadata": {},
   "outputs": [],
   "source": [
    "# randomly move image files from train to test folder\n",
    "def random_file_move(label_name: str, ratio=0.2):\n",
    "    # label_name: fist, up, left, down, right\n",
    "    src = f\"data/train/{label_name}/\"\n",
    "    dst = f\"data/test/{label_name}/\"\n",
    "    \n",
    "    # check whether the ratio between train and test image files\n",
    "    files_src = os.listdir(src)\n",
    "    files_dst = os.listdir(dst)\n",
    "    n_files_to_move = round((len(files_src) + len(files_dst)) * ratio)\n",
    "    if n_files_to_move <= len(files_dst):\n",
    "        # if the number of dst files is greater than or equal to the ratio of the number of total files\n",
    "        # consider the files are already moved from train to test folder\n",
    "        return\n",
    "    # else move the files to meet the ratio\n",
    "    n_files_to_move -= len(files_dst)\n",
    "    for file_name in random.sample(files_src, n_files_to_move):\n",
    "        shutil.move(os.path.join(src, file_name), dst)\n",
    "\n",
    "random_file_move(\"fist\")\n",
    "random_file_move(\"up\")\n",
    "random_file_move(\"left\")\n",
    "random_file_move(\"down\")\n",
    "random_file_move(\"right\")"
   ]
  },
  {
   "cell_type": "markdown",
   "metadata": {},
   "source": [
    "## Load Data"
   ]
  },
  {
   "cell_type": "code",
   "execution_count": 5,
   "metadata": {},
   "outputs": [],
   "source": [
    "# define data transformer for train and test set\n",
    "# we can also introduce data augmentation for training if needed\n",
    "train_transform = transforms.Compose([\n",
    "    transforms.ToTensor(),\n",
    "    transforms.Normalize(mean=[0.5, 0.5, 0.5],\n",
    "                        std=[0.5, 0.5, 0.5])\n",
    "])\n",
    "\n",
    "test_transform = transforms.Compose([\n",
    "    transforms.ToTensor(),\n",
    "    transforms.Normalize(mean=[0.5, 0.5, 0.5],\n",
    "                        std=[0.5, 0.5, 0.5])\n",
    "])"
   ]
  },
  {
   "cell_type": "code",
   "execution_count": 6,
   "metadata": {},
   "outputs": [],
   "source": [
    "# load train and test dataset\n",
    "train_dataset = datasets.ImageFolder(\n",
    "    root='data/train',\n",
    "    transform=train_transform\n",
    ")\n",
    "\n",
    "test_dataset = datasets.ImageFolder(\n",
    "    root='data/test',\n",
    "    transform=test_transform\n",
    ")"
   ]
  },
  {
   "cell_type": "markdown",
   "metadata": {},
   "source": [
    "## Preprocess Data"
   ]
  },
  {
   "cell_type": "code",
   "execution_count": 9,
   "metadata": {},
   "outputs": [],
   "source": [
    "# dataloader to automatically generate batches in the training loop with shuffling\n",
    "batch_size = 3\n",
    "train_loader = torch.utils.data.DataLoader(\n",
    "    dataset=train_dataset,\n",
    "    batch_size=batch_size,\n",
    "    shuffle=True\n",
    ")\n",
    "\n",
    "test_loader = torch.utils.data.DataLoader(\n",
    "    dataset=test_dataset,\n",
    "    batch_size=batch_size\n",
    ")"
   ]
  },
  {
   "cell_type": "code",
   "execution_count": 10,
   "metadata": {},
   "outputs": [
    {
     "name": "stdout",
     "output_type": "stream",
     "text": [
      "tensor([[[[0.5137, 0.5020, 0.4784,  ..., 0.2824, 0.2980, 0.2824],\n",
      "          [0.5020, 0.5020, 0.4863,  ..., 0.2784, 0.2863, 0.2745],\n",
      "          [0.5020, 0.5020, 0.4784,  ..., 0.2863, 0.2745, 0.2706],\n",
      "          ...,\n",
      "          [0.3725, 0.3922, 0.3647,  ..., 0.2824, 0.2627, 0.2863],\n",
      "          [0.3843, 0.4039, 0.3725,  ..., 0.2784, 0.2549, 0.2667],\n",
      "          [0.4118, 0.4118, 0.3725,  ..., 0.2784, 0.2745, 0.2863]],\n",
      "\n",
      "         [[0.4078, 0.3961, 0.4196,  ..., 0.2275, 0.2510, 0.2353],\n",
      "          [0.3961, 0.3961, 0.4078,  ..., 0.2353, 0.2471, 0.2353],\n",
      "          [0.3961, 0.3961, 0.4118,  ..., 0.2431, 0.2314, 0.2275],\n",
      "          ...,\n",
      "          [0.2980, 0.3176, 0.3373,  ..., 0.2431, 0.2275, 0.2510],\n",
      "          [0.2941, 0.3137, 0.3294,  ..., 0.2471, 0.2353, 0.2471],\n",
      "          [0.3098, 0.3098, 0.3176,  ..., 0.2471, 0.2431, 0.2549]],\n",
      "\n",
      "         [[0.4196, 0.4078, 0.4157,  ..., 0.2118, 0.1804, 0.1647],\n",
      "          [0.4078, 0.4078, 0.4118,  ..., 0.2078, 0.2000, 0.1882],\n",
      "          [0.4078, 0.4078, 0.4118,  ..., 0.2157, 0.1961, 0.1922],\n",
      "          ...,\n",
      "          [0.2902, 0.3098, 0.3137,  ..., 0.2353, 0.2392, 0.2627],\n",
      "          [0.2824, 0.3020, 0.3020,  ..., 0.2353, 0.2275, 0.2392],\n",
      "          [0.2941, 0.2941, 0.2941,  ..., 0.2353, 0.2314, 0.2431]]]])\n",
      "torch.Size([1, 3, 360, 640])\n",
      "tensor([2])\n",
      "torch.Size([1])\n"
     ]
    }
   ],
   "source": [
    "# understand DataLoader better\n",
    "tmp_loader = torch.utils.data.DataLoader(\n",
    "    dataset=train_dataset,\n",
    "    batch_size=1,\n",
    "    shuffle=True\n",
    ")\n",
    "\n",
    "for x, y in tmp_loader:\n",
    "    print(x)\n",
    "    print(x.shape)\n",
    "    print(y)\n",
    "    print(y.shape)\n",
    "    break"
   ]
  },
  {
   "cell_type": "markdown",
   "metadata": {},
   "source": [
    "## Build Model"
   ]
  },
  {
   "cell_type": "code",
   "execution_count": 16,
   "metadata": {},
   "outputs": [],
   "source": [
    "# define the model\n",
    "class CNN(nn.Module):\n",
    "    def __init__(self, num_classes):\n",
    "        # K is the number of output classes\n",
    "        super(CNN, self).__init__()\n",
    "        \n",
    "        # define pooling layer\n",
    "        # max pool with (2X2)\n",
    "        self.pool = nn.MaxPool2d(kernel_size=2, stride=2, padding=0)\n",
    "        \n",
    "        # define convolution layers\n",
    "        # convolutional layer 1 -> input: (3, 360, 640), output: (16, 180, 320) after pooling\n",
    "        self.conv1 = nn.Conv2d(in_channels=3, out_channels=16, kernel_size=3, stride=1, padding=1)\n",
    "        # convolutional layer 2 -> input: (16, 180, 320), output: (32, 90, 160) after pooling\n",
    "        self.conv2 = nn.Conv2d(in_channels=16, out_channels=32, kernel_size=3, stride=1, padding=1)\n",
    "        # convolutional layer 3 -> input: (32, 90, 160), output: (64, 45, 80) after pooling\n",
    "        self.conv3 = nn.Conv2d(in_channels=32, out_channels=64, kernel_size=3, stride=1, padding=1)\n",
    "        # convolutional layer 4 -> input: (64, 45, 80), output: (128, 22, 40) after pooling\n",
    "        self.conv4 = nn.Conv2d(in_channels=64, out_channels=128, kernel_size=3, stride=1, padding=1)\n",
    "        \n",
    "        # define dropout layer after convolutional layers\n",
    "        self.dropout_conv = nn.Dropout(p=0.2)\n",
    "        \n",
    "        # define fully connected layers\n",
    "        # fully connected layer 1 -> flattened the input to 512 neurons\n",
    "        self.fc1 = nn.Linear(128 * 22 * 40, 512)\n",
    "        # fully connected layer 2 -> 512 to number of classes \n",
    "        self.fc2 = nn.Linear(512, num_classes)\n",
    "        \n",
    "        # define dropout layer after fully connected layers\n",
    "        self.dropout_fc = nn.Dropout(p=0.5)\n",
    "        \n",
    "    def forward(self, X):\n",
    "        # apply convolutional layer -> relu -> pooling\n",
    "        X = self.pool(F.relu(self.conv1(X)))    # (3, 360, 640) -> (16, 180, 320)\n",
    "        X = self.pool(F.relu(self.conv2(X)))    # (16, 180, 320) -> (32, 90, 160)\n",
    "        X = self.pool(F.relu(self.conv3(X)))    # (32, 90, 160) -> (64, 45, 80)\n",
    "        X = self.pool(F.relu(self.conv4(X)))    # (64, 45, 80) -> (128, 22, 40)\n",
    "        \n",
    "        # apply dropout layer after convolutional layers\n",
    "        X = self.dropout_conv(X)\n",
    "        \n",
    "        # flatten the output from convolutional layers\n",
    "        X = X.view(-1, 128 * 22 * 40)\n",
    "        \n",
    "        # apply fully connected layers -> relu -> dropout\n",
    "        X = F.relu(self.fc1(X))\n",
    "        X = self.dropout_fc(X)\n",
    "        X = self.fc2(X)\n",
    "        \n",
    "        # return the result\n",
    "        return X"
   ]
  },
  {
   "cell_type": "code",
   "execution_count": 19,
   "metadata": {},
   "outputs": [
    {
     "name": "stdout",
     "output_type": "stream",
     "text": [
      "CNN(\n",
      "  (pool): MaxPool2d(kernel_size=2, stride=2, padding=0, dilation=1, ceil_mode=False)\n",
      "  (conv1): Conv2d(3, 16, kernel_size=(3, 3), stride=(1, 1), padding=(1, 1))\n",
      "  (conv2): Conv2d(16, 32, kernel_size=(3, 3), stride=(1, 1), padding=(1, 1))\n",
      "  (conv3): Conv2d(32, 64, kernel_size=(3, 3), stride=(1, 1), padding=(1, 1))\n",
      "  (conv4): Conv2d(64, 128, kernel_size=(3, 3), stride=(1, 1), padding=(1, 1))\n",
      "  (dropout_conv): Dropout(p=0.2, inplace=False)\n",
      "  (fc1): Linear(in_features=112640, out_features=512, bias=True)\n",
      "  (fc2): Linear(in_features=512, out_features=5, bias=True)\n",
      "  (dropout_fc): Dropout(p=0.5, inplace=False)\n",
      ")\n"
     ]
    }
   ],
   "source": [
    "# instantiate the model\n",
    "model = CNN(K)\n",
    "print(model)"
   ]
  },
  {
   "cell_type": "code",
   "execution_count": 20,
   "metadata": {},
   "outputs": [
    {
     "name": "stdout",
     "output_type": "stream",
     "text": [
      "cuda:0\n"
     ]
    },
    {
     "data": {
      "text/plain": [
       "CNN(\n",
       "  (pool): MaxPool2d(kernel_size=2, stride=2, padding=0, dilation=1, ceil_mode=False)\n",
       "  (conv1): Conv2d(3, 16, kernel_size=(3, 3), stride=(1, 1), padding=(1, 1))\n",
       "  (conv2): Conv2d(16, 32, kernel_size=(3, 3), stride=(1, 1), padding=(1, 1))\n",
       "  (conv3): Conv2d(32, 64, kernel_size=(3, 3), stride=(1, 1), padding=(1, 1))\n",
       "  (conv4): Conv2d(64, 128, kernel_size=(3, 3), stride=(1, 1), padding=(1, 1))\n",
       "  (dropout_conv): Dropout(p=0.2, inplace=False)\n",
       "  (fc1): Linear(in_features=112640, out_features=512, bias=True)\n",
       "  (fc2): Linear(in_features=512, out_features=5, bias=True)\n",
       "  (dropout_fc): Dropout(p=0.5, inplace=False)\n",
       ")"
      ]
     },
     "execution_count": 20,
     "metadata": {},
     "output_type": "execute_result"
    }
   ],
   "source": [
    "# activate gpu if possible, otherwise cpu\n",
    "device = torch.device(\"cuda:0\" if torch.cuda.is_available() else \"cpu\")\n",
    "print(device)\n",
    "\n",
    "# send the model to the device\n",
    "model.to(device)"
   ]
  },
  {
   "cell_type": "code",
   "execution_count": 22,
   "metadata": {},
   "outputs": [],
   "source": [
    "# loss and optimizer\n",
    "criterion = nn.CrossEntropyLoss()\n",
    "optimizer = torch.optim.Adam(model.parameters(), lr=0.001)"
   ]
  },
  {
   "cell_type": "markdown",
   "metadata": {},
   "source": [
    "## Training"
   ]
  },
  {
   "cell_type": "code",
   "execution_count": 24,
   "metadata": {},
   "outputs": [],
   "source": [
    "# define batch gradient descent method for training\n",
    "def batch_gd(model, criterion, optimizer, train_loader, test_loader, epochs):\n",
    "    # losses will be stored to plot the results\n",
    "    # storage for losses per each epoch\n",
    "    train_losses = np.zeros(epochs)\n",
    "    test_losses = np.zeros(epochs)\n",
    "    \n",
    "    # epoch iteration\n",
    "    for epoch in range(epochs):\n",
    "        ## train mode\n",
    "        model.train()\n",
    "        t0 = datetime.now()\n",
    "        train_loss = []\n",
    "        \n",
    "        # batch iteration\n",
    "        for inputs, targets in train_loader:\n",
    "            # send data to the device\n",
    "            inputs, targets = inputs.to(device), targets.to(device)\n",
    "            \n",
    "            # zero the parameter gradients to make sure they are zero\n",
    "            optimizer.zero_grad()\n",
    "            \n",
    "            # forward pass\n",
    "            outputs = model(inputs)\n",
    "            loss = criterion(outputs, targets)\n",
    "            \n",
    "            # backward and optimize\n",
    "            loss.backward()\n",
    "            optimizer.step()\n",
    "            \n",
    "            # save the batch loss\n",
    "            train_loss.append(loss.item())\n",
    "            \n",
    "        # get train loss per epoch as average loss of all the batches in that epoch\n",
    "        train_loss = np.mean(train_loss)\n",
    "        train_losses[epoch] = train_loss\n",
    "        \n",
    "        ## test mode\n",
    "        model.eval()\n",
    "        test_loss = []\n",
    "        \n",
    "        for inputs, targets in test_loader:\n",
    "            inputs, targets = inputs.to(device), targets.to(device)\n",
    "            outputs = model(inputs)\n",
    "            loss = criterion(outputs, targets)\n",
    "            test_loss.append(loss.item())\n",
    "        \n",
    "        test_loss = np.mean(test_loss)\n",
    "        test_losses[epoch] = test_loss\n",
    "        \n",
    "        # calculate time spent per epoch\n",
    "        dt = datetime.now() - t0\n",
    "        \n",
    "        # print out the result per epoch\n",
    "        print(f\"Epoch: {epoch+1}/{epochs}, Train loss: {train_loss:.4f}, Test loss: {test_loss:.4f}, Duration: {dt}\")\n",
    "    \n",
    "    # return the results\n",
    "    return train_losses, test_losses"
   ]
  },
  {
   "cell_type": "code",
   "execution_count": 25,
   "metadata": {},
   "outputs": [
    {
     "name": "stdout",
     "output_type": "stream",
     "text": [
      "Epoch: 1/100, Train loss: 1.7504, Tess loss: 1.6139, Duration: 0:00:00.671095\n",
      "Epoch: 2/100, Train loss: 1.6125, Tess loss: 1.6153, Duration: 0:00:00.363766\n",
      "Epoch: 3/100, Train loss: 1.6115, Tess loss: 1.6139, Duration: 0:00:00.377126\n",
      "Epoch: 4/100, Train loss: 1.6116, Tess loss: 1.6140, Duration: 0:00:00.354820\n",
      "Epoch: 5/100, Train loss: 1.6114, Tess loss: 1.6142, Duration: 0:00:00.353515\n",
      "Epoch: 6/100, Train loss: 1.6117, Tess loss: 1.6133, Duration: 0:00:00.358878\n",
      "Epoch: 7/100, Train loss: 1.6107, Tess loss: 1.6134, Duration: 0:00:00.351731\n",
      "Epoch: 8/100, Train loss: 1.6099, Tess loss: 1.6134, Duration: 0:00:00.355126\n",
      "Epoch: 9/100, Train loss: 1.6074, Tess loss: 1.6135, Duration: 0:00:00.364297\n",
      "Epoch: 10/100, Train loss: 1.6076, Tess loss: 1.6143, Duration: 0:00:00.351347\n",
      "Epoch: 11/100, Train loss: 1.6077, Tess loss: 1.6141, Duration: 0:00:00.372047\n",
      "Epoch: 12/100, Train loss: 1.6105, Tess loss: 1.6140, Duration: 0:00:00.352228\n",
      "Epoch: 13/100, Train loss: 1.6097, Tess loss: 1.6141, Duration: 0:00:00.350891\n",
      "Epoch: 14/100, Train loss: 1.6103, Tess loss: 1.6145, Duration: 0:00:00.358101\n",
      "Epoch: 15/100, Train loss: 1.6088, Tess loss: 1.6145, Duration: 0:00:00.372678\n",
      "Epoch: 16/100, Train loss: 1.6081, Tess loss: 1.6146, Duration: 0:00:00.352720\n",
      "Epoch: 17/100, Train loss: 1.6116, Tess loss: 1.6148, Duration: 0:00:00.362666\n",
      "Epoch: 18/100, Train loss: 1.6079, Tess loss: 1.6151, Duration: 0:00:00.365369\n",
      "Epoch: 19/100, Train loss: 1.6079, Tess loss: 1.6149, Duration: 0:00:00.361652\n",
      "Epoch: 20/100, Train loss: 1.6096, Tess loss: 1.6154, Duration: 0:00:00.369248\n",
      "Epoch: 21/100, Train loss: 1.6093, Tess loss: 1.6157, Duration: 0:00:00.373944\n",
      "Epoch: 22/100, Train loss: 1.6095, Tess loss: 1.6157, Duration: 0:00:00.355488\n",
      "Epoch: 23/100, Train loss: 1.6119, Tess loss: 1.6158, Duration: 0:00:00.349931\n",
      "Epoch: 24/100, Train loss: 1.6104, Tess loss: 1.6158, Duration: 0:00:00.353937\n",
      "Epoch: 25/100, Train loss: 1.6107, Tess loss: 1.6156, Duration: 0:00:00.370216\n",
      "Epoch: 26/100, Train loss: 1.6115, Tess loss: 1.6156, Duration: 0:00:00.390519\n",
      "Epoch: 27/100, Train loss: 1.6089, Tess loss: 1.6155, Duration: 0:00:00.369084\n",
      "Epoch: 28/100, Train loss: 1.6102, Tess loss: 1.6154, Duration: 0:00:00.356637\n",
      "Epoch: 29/100, Train loss: 1.6107, Tess loss: 1.6154, Duration: 0:00:00.359357\n",
      "Epoch: 30/100, Train loss: 1.6125, Tess loss: 1.6154, Duration: 0:00:00.369152\n",
      "Epoch: 31/100, Train loss: 1.6106, Tess loss: 1.6149, Duration: 0:00:00.361618\n",
      "Epoch: 32/100, Train loss: 1.6080, Tess loss: 1.6147, Duration: 0:00:00.354039\n",
      "Epoch: 33/100, Train loss: 1.6107, Tess loss: 1.6146, Duration: 0:00:00.367748\n",
      "Epoch: 34/100, Train loss: 1.6095, Tess loss: 1.6145, Duration: 0:00:00.369507\n",
      "Epoch: 35/100, Train loss: 1.6084, Tess loss: 1.6147, Duration: 0:00:00.354184\n",
      "Epoch: 36/100, Train loss: 1.6080, Tess loss: 1.6150, Duration: 0:00:00.361839\n",
      "Epoch: 37/100, Train loss: 1.6093, Tess loss: 1.6151, Duration: 0:00:00.350118\n",
      "Epoch: 38/100, Train loss: 1.6093, Tess loss: 1.6151, Duration: 0:00:00.363726\n",
      "Epoch: 39/100, Train loss: 1.6118, Tess loss: 1.6153, Duration: 0:00:00.358759\n",
      "Epoch: 40/100, Train loss: 1.6103, Tess loss: 1.6145, Duration: 0:00:00.357678\n",
      "Epoch: 41/100, Train loss: 1.6097, Tess loss: 1.6144, Duration: 0:00:00.376095\n",
      "Epoch: 42/100, Train loss: 1.6124, Tess loss: 1.6144, Duration: 0:00:00.365752\n",
      "Epoch: 43/100, Train loss: 1.6083, Tess loss: 1.6143, Duration: 0:00:00.354062\n",
      "Epoch: 44/100, Train loss: 1.6096, Tess loss: 1.6145, Duration: 0:00:00.351324\n",
      "Epoch: 45/100, Train loss: 1.6098, Tess loss: 1.6148, Duration: 0:00:00.353701\n",
      "Epoch: 46/100, Train loss: 1.6097, Tess loss: 1.6148, Duration: 0:00:00.358727\n",
      "Epoch: 47/100, Train loss: 1.6108, Tess loss: 1.6150, Duration: 0:00:00.364525\n",
      "Epoch: 48/100, Train loss: 1.6109, Tess loss: 1.6146, Duration: 0:00:00.366046\n",
      "Epoch: 49/100, Train loss: 1.6097, Tess loss: 1.6137, Duration: 0:00:00.353822\n",
      "Epoch: 50/100, Train loss: 1.6095, Tess loss: 1.6140, Duration: 0:00:00.370520\n",
      "Epoch: 51/100, Train loss: 1.6098, Tess loss: 1.6140, Duration: 0:00:00.364366\n",
      "Epoch: 52/100, Train loss: 1.6090, Tess loss: 1.6140, Duration: 0:00:00.353057\n",
      "Epoch: 53/100, Train loss: 1.6123, Tess loss: 1.6142, Duration: 0:00:00.351922\n",
      "Epoch: 54/100, Train loss: 1.6113, Tess loss: 1.6144, Duration: 0:00:00.357167\n",
      "Epoch: 55/100, Train loss: 1.6101, Tess loss: 1.6137, Duration: 0:00:00.366020\n",
      "Epoch: 56/100, Train loss: 1.6090, Tess loss: 1.6138, Duration: 0:00:00.353678\n",
      "Epoch: 57/100, Train loss: 1.6089, Tess loss: 1.6139, Duration: 0:00:00.371999\n",
      "Epoch: 58/100, Train loss: 1.6112, Tess loss: 1.6139, Duration: 0:00:00.378325\n",
      "Epoch: 59/100, Train loss: 1.6111, Tess loss: 1.6140, Duration: 0:00:00.378010\n",
      "Epoch: 60/100, Train loss: 1.6092, Tess loss: 1.6135, Duration: 0:00:00.376072\n",
      "Epoch: 61/100, Train loss: 1.6089, Tess loss: 1.6132, Duration: 0:00:00.363935\n",
      "Epoch: 62/100, Train loss: 1.6091, Tess loss: 1.6134, Duration: 0:00:00.351939\n",
      "Epoch: 63/100, Train loss: 1.6120, Tess loss: 1.6137, Duration: 0:00:00.368890\n",
      "Epoch: 64/100, Train loss: 1.6094, Tess loss: 1.6134, Duration: 0:00:00.376213\n",
      "Epoch: 65/100, Train loss: 1.6097, Tess loss: 1.6134, Duration: 0:00:00.364154\n",
      "Epoch: 66/100, Train loss: 1.6095, Tess loss: 1.6133, Duration: 0:00:00.357813\n",
      "Epoch: 67/100, Train loss: 1.6095, Tess loss: 1.6133, Duration: 0:00:00.351692\n",
      "Epoch: 68/100, Train loss: 1.6097, Tess loss: 1.6130, Duration: 0:00:00.352723\n",
      "Epoch: 69/100, Train loss: 1.6115, Tess loss: 1.6131, Duration: 0:00:00.369132\n",
      "Epoch: 70/100, Train loss: 1.6096, Tess loss: 1.6132, Duration: 0:00:00.353064\n",
      "Epoch: 71/100, Train loss: 1.6099, Tess loss: 1.6133, Duration: 0:00:00.365198\n",
      "Epoch: 72/100, Train loss: 1.6094, Tess loss: 1.6127, Duration: 0:00:00.370639\n",
      "Epoch: 73/100, Train loss: 1.6103, Tess loss: 1.6128, Duration: 0:00:00.348866\n",
      "Epoch: 74/100, Train loss: 1.6105, Tess loss: 1.6131, Duration: 0:00:00.370389\n",
      "Epoch: 75/100, Train loss: 1.6118, Tess loss: 1.6122, Duration: 0:00:00.379056\n",
      "Epoch: 76/100, Train loss: 1.6088, Tess loss: 1.6113, Duration: 0:00:00.352826\n",
      "Epoch: 77/100, Train loss: 1.6112, Tess loss: 1.6113, Duration: 0:00:00.351102\n",
      "Epoch: 78/100, Train loss: 1.6102, Tess loss: 1.6114, Duration: 0:00:00.355511\n",
      "Epoch: 79/100, Train loss: 1.6104, Tess loss: 1.6117, Duration: 0:00:00.361109\n",
      "Epoch: 80/100, Train loss: 1.6109, Tess loss: 1.6117, Duration: 0:00:00.349526\n",
      "Epoch: 81/100, Train loss: 1.6108, Tess loss: 1.6116, Duration: 0:00:00.353826\n",
      "Epoch: 82/100, Train loss: 1.6101, Tess loss: 1.6114, Duration: 0:00:00.352600\n",
      "Epoch: 83/100, Train loss: 1.6099, Tess loss: 1.6115, Duration: 0:00:00.351093\n",
      "Epoch: 84/100, Train loss: 1.6119, Tess loss: 1.6121, Duration: 0:00:00.346159\n",
      "Epoch: 85/100, Train loss: 1.6091, Tess loss: 1.6119, Duration: 0:00:00.353661\n",
      "Epoch: 86/100, Train loss: 1.6109, Tess loss: 1.6117, Duration: 0:00:00.357929\n",
      "Epoch: 87/100, Train loss: 1.6091, Tess loss: 1.6119, Duration: 0:00:00.356488\n",
      "Epoch: 88/100, Train loss: 1.6084, Tess loss: 1.6117, Duration: 0:00:00.379348\n",
      "Epoch: 89/100, Train loss: 1.6078, Tess loss: 1.6121, Duration: 0:00:00.360977\n",
      "Epoch: 90/100, Train loss: 1.6115, Tess loss: 1.6126, Duration: 0:00:00.360504\n",
      "Epoch: 91/100, Train loss: 1.6106, Tess loss: 1.6126, Duration: 0:00:00.360133\n",
      "Epoch: 92/100, Train loss: 1.6097, Tess loss: 1.6127, Duration: 0:00:00.362628\n",
      "Epoch: 93/100, Train loss: 1.6084, Tess loss: 1.6127, Duration: 0:00:00.375290\n",
      "Epoch: 94/100, Train loss: 1.6101, Tess loss: 1.6130, Duration: 0:00:00.378176\n",
      "Epoch: 95/100, Train loss: 1.6096, Tess loss: 1.6133, Duration: 0:00:00.374408\n",
      "Epoch: 96/100, Train loss: 1.6093, Tess loss: 1.6131, Duration: 0:00:00.345727\n",
      "Epoch: 97/100, Train loss: 1.6103, Tess loss: 1.6129, Duration: 0:00:00.354160\n",
      "Epoch: 98/100, Train loss: 1.6112, Tess loss: 1.6123, Duration: 0:00:00.349109\n",
      "Epoch: 99/100, Train loss: 1.6090, Tess loss: 1.6116, Duration: 0:00:00.345600\n",
      "Epoch: 100/100, Train loss: 1.6104, Tess loss: 1.6111, Duration: 0:00:00.352653\n"
     ]
    }
   ],
   "source": [
    "# get the result\n",
    "train_losses, test_losses = batch_gd(\n",
    "    model, criterion, optimizer, train_loader, test_loader, epochs=100\n",
    ")"
   ]
  },
  {
   "cell_type": "markdown",
   "metadata": {},
   "source": [
    "## Result"
   ]
  },
  {
   "cell_type": "code",
   "execution_count": 26,
   "metadata": {},
   "outputs": [
    {
     "data": {
      "image/png": "[encoded data removed]",
      "text/plain": [
       "<Figure size 640x480 with 1 Axes>"
      ]
     },
     "metadata": {},
     "output_type": "display_data"
    }
   ],
   "source": [
    "# plot the train loss and test loss per epoch\n",
    "plt.plot(train_losses, label=\"Train loss\")\n",
    "plt.plot(test_losses, label=\"Test loss\")\n",
    "plt.legend()\n",
    "plt.show()"
   ]
  },
  {
   "cell_type": "code",
   "execution_count": 30,
   "metadata": {},
   "outputs": [
    {
     "name": "stdout",
     "output_type": "stream",
     "text": [
      "The number of train images: 40.0\n",
      "The number of test images: 10.0\n",
      "Train accuracy: 0.2000, Test accuracy: 0.2000\n"
     ]
    }
   ],
   "source": [
    "# calculate accuracy\n",
    "## train accuracy\n",
    "n_correct = float(0)\n",
    "n_total = float(0)\n",
    "\n",
    "model.eval()\n",
    "for inputs, targets in train_loader:\n",
    "    # send data to the device\n",
    "    inputs, targets = inputs.to(device), targets.to(device)\n",
    "    \n",
    "    # forward pass\n",
    "    outputs = model(inputs)\n",
    "    \n",
    "    # predictions by returning max value label\n",
    "    _, predictions = torch.max(outputs, 1)\n",
    "    \n",
    "    # update numbers\n",
    "    n_correct += (predictions == targets).sum().item()\n",
    "    n_total += targets.shape[0]\n",
    "    \n",
    "# calculate train accuracy\n",
    "train_acc = n_correct / n_total\n",
    "print(f\"The number of train images: {n_total}\")\n",
    "\n",
    "## test accuracy\n",
    "n_correct = float(0)\n",
    "n_total = float(0)\n",
    "\n",
    "model.eval()\n",
    "for inputs, targets in test_loader:\n",
    "    inputs, targets = inputs.to(device), targets.to(device)\n",
    "    outputs = model(inputs)\n",
    "    _, predictions = torch.max(outputs, 1)\n",
    "    n_correct += (predictions == targets).sum().item()\n",
    "    n_total += targets.shape[0]\n",
    "    \n",
    "# calculate train accuracy\n",
    "test_acc = n_correct / n_total\n",
    "print(f\"The number of test images: {n_total}\")\n",
    "\n",
    "# print the result\n",
    "print(f\"Train accuracy: {train_acc:.4f}, Test accuracy: {test_acc:.4f}\")"
   ]
  }
 ],
 "metadata": {
  "kernelspec": {
   "display_name": "hand_pose",
   "language": "python",
   "name": "python3"
  },
  "language_info": {
   "codemirror_mode": {
    "name": "ipython",
    "version": 3
   },
   "file_extension": ".py",
   "mimetype": "text/x-python",
   "name": "python",
   "nbconvert_exporter": "python",
   "pygments_lexer": "ipython3",
   "version": "3.10.15"
  }
 },
 "nbformat": 4,
 "nbformat_minor": 2
}
